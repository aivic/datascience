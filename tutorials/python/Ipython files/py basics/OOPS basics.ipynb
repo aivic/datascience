{
 "cells": [
  {
   "cell_type": "markdown",
   "metadata": {},
   "source": [
    "## Aggregation (HAS-A)\n",
    "Passing an object of Class 1 as an argument of class 2 constructer"
   ]
  },
  {
   "cell_type": "code",
   "execution_count": 95,
   "metadata": {},
   "outputs": [
    {
     "data": {
      "text/plain": [
       "22"
      ]
     },
     "execution_count": 95,
     "metadata": {},
     "output_type": "execute_result"
    }
   ],
   "source": [
    "class A():\n",
    "    def __init__(self, a, b, c):\n",
    "        self.a = a\n",
    "        self.b = b\n",
    "        self.c = c\n",
    "\n",
    "    def addNums():\n",
    "        self.b + self.c\n",
    "\n",
    "class B():\n",
    "    def __init__(self, d, e, A):\n",
    "        self.d = d\n",
    "        self.e = e\n",
    "        self.A = A\n",
    "\n",
    "    def addAllNums(self):\n",
    "        x = self.d + self.e + self.A.b + self.A.c\n",
    "        return x\n",
    "\n",
    "objA = A(\"hi\", 2, 6)\n",
    "objB = B(5, 9, objA)\n",
    "objB.addAllNums()"
   ]
  },
  {
   "cell_type": "markdown",
   "metadata": {},
   "source": [
    "## Association (USES-A)\n",
    "Passing object of class 1 as an argument of class 2 methods "
   ]
  },
  {
   "cell_type": "code",
   "execution_count": 91,
   "metadata": {},
   "outputs": [
    {
     "data": {
      "text/plain": [
       "22"
      ]
     },
     "execution_count": 91,
     "metadata": {},
     "output_type": "execute_result"
    }
   ],
   "source": [
    "class A():\n",
    "    def __init__(self, a, b, c):\n",
    "        self.a = a\n",
    "        self.b = b\n",
    "        self.c = c\n",
    "\n",
    "    def addNums():\n",
    "        self.b + self.c\n",
    "\n",
    "class B():\n",
    "    def __init__(self, d, e):\n",
    "        self.d = d\n",
    "        self.e = e        \n",
    "\n",
    "    def addAllNums(self, arg):\n",
    "        x = self.d + self.e + arg.b + arg.c\n",
    "        return x\n",
    "\n",
    "objA = A(\"hi\", 2, 6)\n",
    "objB = B(5, 9)\n",
    "objB.addAllNums(objA)"
   ]
  },
  {
   "cell_type": "markdown",
   "metadata": {},
   "source": [
    "## Composition (PART-OF)\n",
    "Object of class 1 is defined inside the constructor of class 2"
   ]
  },
  {
   "cell_type": "code",
   "execution_count": 94,
   "metadata": {},
   "outputs": [
    {
     "data": {
      "text/plain": [
       "22"
      ]
     },
     "execution_count": 94,
     "metadata": {},
     "output_type": "execute_result"
    }
   ],
   "source": [
    "class A():\n",
    "    def __init__(self, a, b, c):\n",
    "        self.a = a\n",
    "        self.b = b\n",
    "        self.c = c\n",
    "\n",
    "    def addNums():\n",
    "        self.b + self.c\n",
    "\n",
    "class B():\n",
    "    def __init__(self, d, e):\n",
    "        self.d = d\n",
    "        self.e = e\n",
    "        self.objA = A(\"hi\", 2, 6)\n",
    "\n",
    "    def addAllNums(self):\n",
    "        x = self.d + self.e + self.objA.b + self.objA.c\n",
    "        return x\n",
    "\n",
    "\n",
    "objB = B(5, 9)\n",
    "objB.addAllNums()"
   ]
  },
  {
   "cell_type": "markdown",
   "metadata": {},
   "source": [
    "## Inheritance (IS-A)"
   ]
  },
  {
   "cell_type": "code",
   "execution_count": 102,
   "metadata": {},
   "outputs": [
    {
     "data": {
      "text/plain": [
       "20"
      ]
     },
     "execution_count": 102,
     "metadata": {},
     "output_type": "execute_result"
    }
   ],
   "source": [
    "class A():\n",
    "    def __init__(self, a, b, c):\n",
    "        self.a = a\n",
    "        self.b = b\n",
    "        self.c = c\n",
    "\n",
    "    def addNums():\n",
    "        self.b + self.c\n",
    "\n",
    "class B(A):\n",
    "    def __init__(self, a, b, c, d, e):\n",
    "#         A.__init__(self, a, b, c)\n",
    "        super().__init__(a, b, c)\n",
    "        self.d = d\n",
    "        self.e = e\n",
    "        \n",
    "\n",
    "    def addAllNums(self):\n",
    "        x = self.a + self.b + self.c + self.d + self.e\n",
    "        return x\n",
    "\n",
    "\n",
    "objB = B(1, 2, 3, 5, 9)\n",
    "objB.addAllNums()"
   ]
  },
  {
   "cell_type": "markdown",
   "metadata": {},
   "source": [
    "## Function overriding"
   ]
  },
  {
   "cell_type": "code",
   "execution_count": 111,
   "metadata": {},
   "outputs": [
    {
     "name": "stdout",
     "output_type": "stream",
     "text": [
      "Class B func: 14\n",
      "Class B func: 6\n"
     ]
    }
   ],
   "source": [
    "class A():\n",
    "    def __init__(self, a, b, c):\n",
    "        self.a = a\n",
    "        self.b = b\n",
    "        self.c = c\n",
    "\n",
    "    def addNums(self):\n",
    "        return self.b * self.c\n",
    "\n",
    "class B(A):\n",
    "    def __init__(self, a, b, c, d, e):\n",
    "        super().__init__(a, b, c)\n",
    "        self.d = d\n",
    "        self.e = e\n",
    "        \n",
    "    def addNums(self):\n",
    "        return self.d + self.e\n",
    "    \n",
    "    def check(self):\n",
    "        print(\"Class B func:\", self.addNums())\n",
    "        print(\"Class B func:\", super().addNums())\n",
    "\n",
    "\n",
    "objB = B(1,2,3,5, 9)\n",
    "objB.check()"
   ]
  },
  {
   "cell_type": "markdown",
   "metadata": {},
   "source": [
    "## There is no function overloading \n",
    "Gives no error but only last defined function is executed"
   ]
  },
  {
   "cell_type": "code",
   "execution_count": 116,
   "metadata": {},
   "outputs": [
    {
     "data": {
      "text/plain": [
       "(8, 5)"
      ]
     },
     "execution_count": 116,
     "metadata": {},
     "output_type": "execute_result"
    }
   ],
   "source": [
    "class A():\n",
    "    def f1(self, x):\n",
    "        return x\n",
    "    def f1(self, x, y):\n",
    "        return x, y\n",
    "\n",
    "\n",
    "objA = A()\n",
    "objA.f1(8,5)\n",
    "# objA.f1(8)    # Gives error"
   ]
  },
  {
   "cell_type": "code",
   "execution_count": 121,
   "metadata": {},
   "outputs": [
    {
     "name": "stdout",
     "output_type": "stream",
     "text": [
      "5\n"
     ]
    },
    {
     "data": {
      "text/plain": [
       "8"
      ]
     },
     "execution_count": 121,
     "metadata": {},
     "output_type": "execute_result"
    }
   ],
   "source": [
    "# How to work with function overloading\n",
    "class A():\n",
    "    def f1(self,name = None):\n",
    "        if name is None:\n",
    "            return 5\n",
    "        else:\n",
    "            return name\n",
    "\n",
    "objA = A()\n",
    "print(objA.f1())\n",
    "objA.f1(8)"
   ]
  }
 ],
 "metadata": {
  "kernelspec": {
   "display_name": "Python 3",
   "language": "python",
   "name": "python3"
  },
  "language_info": {
   "codemirror_mode": {
    "name": "ipython",
    "version": 3
   },
   "file_extension": ".py",
   "mimetype": "text/x-python",
   "name": "python",
   "nbconvert_exporter": "python",
   "pygments_lexer": "ipython3",
   "version": "3.6.4"
  }
 },
 "nbformat": 4,
 "nbformat_minor": 2
}

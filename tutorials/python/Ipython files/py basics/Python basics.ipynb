{
 "cells": [
  {
   "cell_type": "markdown",
   "metadata": {},
   "source": [
    "## print Hello World!"
   ]
  },
  {
   "cell_type": "code",
   "execution_count": 1,
   "metadata": {},
   "outputs": [
    {
     "name": "stdout",
     "output_type": "stream",
     "text": [
      "Hello\n",
      "World!\n",
      "Hello*World!\n"
     ]
    }
   ],
   "source": [
    "print(\"Hello\")\n",
    "print(\"World!\")\n",
    "print(\"Hello\",end=\"*\")\n",
    "print(\"World!\")"
   ]
  },
  {
   "cell_type": "markdown",
   "metadata": {},
   "source": [
    "## Multiple Assignment"
   ]
  },
  {
   "cell_type": "code",
   "execution_count": 2,
   "metadata": {},
   "outputs": [
    {
     "name": "stdout",
     "output_type": "stream",
     "text": [
      "1 2 3\n"
     ]
    }
   ],
   "source": [
    "a,b,c = 1,2,3\n",
    "print(a,b,c)"
   ]
  },
  {
   "cell_type": "markdown",
   "metadata": {},
   "source": [
    "## Data Types"
   ]
  },
  {
   "cell_type": "code",
   "execution_count": 3,
   "metadata": {},
   "outputs": [
    {
     "name": "stdout",
     "output_type": "stream",
     "text": [
      "<class 'int'> <class 'float'> <class 'str'> <class 'bool'> <class 'complex'>\n"
     ]
    }
   ],
   "source": [
    "a, b, c, d, e = 1, 2.3, \"hi\", True, 2 + 3j\n",
    "print(type(a),type(b),type(c),type(d),type(e))"
   ]
  },
  {
   "cell_type": "markdown",
   "metadata": {},
   "source": [
    "## Type casting"
   ]
  },
  {
   "cell_type": "code",
   "execution_count": 4,
   "metadata": {},
   "outputs": [
    {
     "name": "stdout",
     "output_type": "stream",
     "text": [
      "1.0 2 True (1+0j) (2+3j)\n",
      "<class 'float'> <class 'int'> <class 'bool'> <class 'complex'> <class 'str'>\n"
     ]
    }
   ],
   "source": [
    "a, b, c, d, e = 1, 2.3, \"hi\", True, 2+3j\n",
    "a = float(a)\n",
    "b = int(b)\n",
    "c = bool(c)\n",
    "d = complex(d)\n",
    "e = str(e)\n",
    "print(a,b,c,d,e)\n",
    "print(type(a),type(b),type(c),type(d),type(e))"
   ]
  },
  {
   "cell_type": "markdown",
   "metadata": {},
   "source": [
    "## Data Structures"
   ]
  },
  {
   "cell_type": "code",
   "execution_count": 5,
   "metadata": {},
   "outputs": [
    {
     "name": "stdout",
     "output_type": "stream",
     "text": [
      "<class 'list'> <class 'tuple'> <class 'set'> <class 'dict'>\n"
     ]
    }
   ],
   "source": [
    "l = [1, 2, 3,4,5,6]\n",
    "\n",
    "t = (7,8,9,10,11,12)\n",
    "\n",
    "s = {10,20,30,40,50}\n",
    "\n",
    "\n",
    "d = {\"key1\":[[1,2], [3,4]],\n",
    "    \"key2\":20}\n",
    "\n",
    "print(type(l),\n",
    "     type(t),\n",
    "       type(s),\n",
    "       type(d))"
   ]
  },
  {
   "cell_type": "markdown",
   "metadata": {},
   "source": [
    "## Slicing"
   ]
  },
  {
   "cell_type": "code",
   "execution_count": 6,
   "metadata": {},
   "outputs": [
    {
     "name": "stdout",
     "output_type": "stream",
     "text": [
      "11\n",
      "A[Inc:End] 1234\n",
      "A[Inc:End-1] 1234\n",
      "A[Inc:End] 1234\n",
      "A[Low:High] \n"
     ]
    }
   ],
   "source": [
    "# A\tB\tC\tD\tE\tF\tG\t1\t2\t3\t4\n",
    "# 0\t1\t2\t3\t4\t5\t6\t7\t8\t9\t10\n",
    "#-11\t-10\t-9\t-8\t-7\t-6\t-5\t-4\t-3\t-2\t-1\n",
    "\n",
    "A = \"ABCDEFG1234\"\n",
    "print(len(A))\n",
    "print(\"A[Inc:End]\",A[7:])\n",
    "print(\"A[Inc:End-1]\",A[7:11])\n",
    "\n",
    "print(\"A[Inc:End]\",A[-4:])\n",
    "print(\"A[Low:High]\",A[-11:0])"
   ]
  },
  {
   "cell_type": "markdown",
   "metadata": {},
   "source": [
    "## Operators"
   ]
  },
  {
   "cell_type": "code",
   "execution_count": 7,
   "metadata": {},
   "outputs": [
    {
     "name": "stdout",
     "output_type": "stream",
     "text": [
      "False\n",
      "True\n",
      "False\n",
      "True\n",
      "True\n",
      "True\n",
      "False\n",
      "1\n",
      "True\n",
      "False\n",
      "False\n",
      "True\n"
     ]
    }
   ],
   "source": [
    "print(1 == 2)\n",
    "print(1 != 5)\n",
    "print(1 > 2)\n",
    "print(1 < 2)\n",
    "print(5 >= 5)\n",
    "print(9 <= 9.6)\n",
    "\n",
    "print(1 and False)\n",
    "print(1 or 0)\n",
    "\n",
    "print(5 in [8, 6, 5])\n",
    "\n",
    "print(8 not in [5,6,8])\n",
    "print(5 is 8)\n",
    "print(2 is not 3)"
   ]
  },
  {
   "cell_type": "markdown",
   "metadata": {},
   "source": [
    "## IF-ELIF-ELSE"
   ]
  },
  {
   "cell_type": "code",
   "execution_count": 8,
   "metadata": {},
   "outputs": [
    {
     "name": "stdout",
     "output_type": "stream",
     "text": [
      "ELSE executed.\n"
     ]
    }
   ],
   "source": [
    "if 1 == 2 or 20 <=5:\n",
    "   print(\"IF executed.\")\n",
    "elif 2 <= 8 and False:\n",
    "   print(\"ELSE-IF executed.\")\n",
    "else:\n",
    "   print(\"ELSE executed.\")"
   ]
  },
  {
   "cell_type": "markdown",
   "metadata": {},
   "source": [
    "## WHILE Loop"
   ]
  },
  {
   "cell_type": "code",
   "execution_count": 9,
   "metadata": {},
   "outputs": [
    {
     "name": "stdout",
     "output_type": "stream",
     "text": [
      "1\n",
      "2\n",
      "3\n",
      "4\n",
      "5\n",
      "6\n",
      "7\n",
      "8\n",
      "End of while loop\n"
     ]
    }
   ],
   "source": [
    "var1 = [1]*8\n",
    "cnt = 0\n",
    "while(1):   \n",
    "   print(var1[cnt] + cnt)\n",
    "   cnt += 1\n",
    "   if cnt == len(var1):\n",
    "       break\n",
    "\n",
    "\n",
    "print(\"End of while loop\")"
   ]
  },
  {
   "cell_type": "markdown",
   "metadata": {},
   "source": [
    "## FOR Loop"
   ]
  },
  {
   "cell_type": "code",
   "execution_count": 10,
   "metadata": {},
   "outputs": [
    {
     "name": "stdout",
     "output_type": "stream",
     "text": [
      "abcde\n"
     ]
    }
   ],
   "source": [
    "text1 = \"abcd\"\n",
    "text2 = \"aecb\"\n",
    "\n",
    "for i in range(0,len(text2)):\n",
    "   if text2[i] not in text1:\n",
    "       text1 += text2[i]      \n",
    "print(text1)"
   ]
  },
  {
   "cell_type": "markdown",
   "metadata": {},
   "source": [
    "## Inbuilt functions"
   ]
  },
  {
   "cell_type": "code",
   "execution_count": 11,
   "metadata": {},
   "outputs": [
    {
     "name": "stdout",
     "output_type": "stream",
     "text": [
      "2\n",
      "[0, 1]\n",
      "54.0\n",
      "True\n",
      "False\n"
     ]
    }
   ],
   "source": [
    "print(len([bool(\"It's time\"),\n",
    "          bool(\"to invent!\")]))\n",
    "\n",
    "print(min([0,1],[1,0]))\n",
    "\n",
    "print(max(20,float(54),int(\"12\")))\n",
    "\n",
    "print(any([1,0,1,0]))\n",
    "print(all([True,True,1,0]))"
   ]
  },
  {
   "cell_type": "markdown",
   "metadata": {},
   "source": [
    "## def function"
   ]
  },
  {
   "cell_type": "code",
   "execution_count": 12,
   "metadata": {},
   "outputs": [
    {
     "name": "stdout",
     "output_type": "stream",
     "text": [
      "Positional Function! 5\n",
      "Keyword Function! 2 Incredible World\n",
      "Default Function! 2 hello world\n",
      "Variable Function! 1 (2, 3)\n"
     ]
    }
   ],
   "source": [
    "def func1_nor():\n",
    "   print(\"Normal Function!\")\n",
    "   return\n",
    "\n",
    "def func2_pos(x,y):\n",
    "   print(\"Positional Function!\",x+y)\n",
    "   return \n",
    "   \n",
    "def func3_key(x = 1, y = \"hello world\"):\n",
    "   print(\"Keyword Function!\",x,y)\n",
    "   return\n",
    "   \n",
    "def func4_def(x = 1, y = \"hello world\"):\n",
    "   print(\"Default Function!\",x,y)\n",
    "   return\n",
    "   \n",
    "def func5_var(x, *y):\n",
    "   print(\"Variable Function!\", x, y)\n",
    "   return\n",
    "\n",
    "#func1_nor()\n",
    "func2_pos(2,3)\n",
    "func3_key(2,\"Incredible World\")\n",
    "func4_def(2)\n",
    "func5_var(1,2,3)"
   ]
  },
  {
   "cell_type": "markdown",
   "metadata": {},
   "source": [
    "## lambda function"
   ]
  },
  {
   "cell_type": "code",
   "execution_count": 13,
   "metadata": {},
   "outputs": [
    {
     "name": "stdout",
     "output_type": "stream",
     "text": [
      "4\n",
      "[18, 9, 24, 12, 27]\n",
      "<map object at 0x000000EB37CD2358>\n"
     ]
    }
   ],
   "source": [
    "d = lambda x: x**2\n",
    "\n",
    "print(d(2))\n",
    "\n",
    "# FILTER creates a list of elements for which \n",
    "# a function returns true.\n",
    "foo = [2, 18, 9, 22, 17, 24, 8, 12, 27]\n",
    "print(list(filter(lambda x: x % 3 == 0, foo)))\n",
    "   \n",
    "# MAP applies a function to all the items \n",
    "# in an input_list\n",
    "lst = [1,2,3,4]\n",
    "print((map(lambda x: x**2,lst)))"
   ]
  },
  {
   "cell_type": "markdown",
   "metadata": {},
   "source": [
    "## GLOBAL and LOCAL scope"
   ]
  },
  {
   "cell_type": "code",
   "execution_count": 14,
   "metadata": {},
   "outputs": [
    {
     "name": "stdout",
     "output_type": "stream",
     "text": [
      "5\n",
      "7\n",
      "5\n",
      "100\n"
     ]
    }
   ],
   "source": [
    "# Functions don't affect global variable unless \n",
    "# specified with global keyword\n",
    "var = 5\n",
    "def func():\n",
    "   var = 7\n",
    "   return var\n",
    "\n",
    "print(var)\n",
    "print(func())\n",
    "print(var)\n",
    "var = 100\n",
    "print(var)"
   ]
  },
  {
   "cell_type": "code",
   "execution_count": 15,
   "metadata": {},
   "outputs": [
    {
     "name": "stdout",
     "output_type": "stream",
     "text": [
      "5\n",
      "7\n",
      "7\n"
     ]
    }
   ],
   "source": [
    "# Changing global variable throughout the program\n",
    "# using global keyword\n",
    "var = 5\n",
    "def func():\n",
    "   global var\n",
    "   var = 7\n",
    "   return var\n",
    "\n",
    "print(var)\n",
    "print(func())\n",
    "print(var)"
   ]
  },
  {
   "cell_type": "markdown",
   "metadata": {},
   "source": [
    "## Exception Handling"
   ]
  },
  {
   "cell_type": "code",
   "execution_count": 16,
   "metadata": {},
   "outputs": [
    {
     "name": "stdout",
     "output_type": "stream",
     "text": [
      "Error found!\n",
      "Final catch.\n"
     ]
    }
   ],
   "source": [
    "try:\n",
    "   a = int(\"hi\")\n",
    "except:\n",
    "   print(\"Error found!\")\n",
    "finally:\n",
    "   print(\"Final catch.\")"
   ]
  },
  {
   "cell_type": "code",
   "execution_count": 17,
   "metadata": {},
   "outputs": [
    {
     "name": "stdout",
     "output_type": "stream",
     "text": [
      "handled\n",
      "Final catch.\n"
     ]
    }
   ],
   "source": [
    "try:\n",
    "#    a = [10, 20, 30]\n",
    "#    print(a[3])\n",
    "   print(2/0)\n",
    "except NameError:\n",
    "   print(\"NameError Found!\")\n",
    "except IndexError:\n",
    "   print(\"IndexError Found!\") \n",
    "except:\n",
    "   print(\"handled\")\n",
    "finally:\n",
    "   print(\"Final catch.\")"
   ]
  },
  {
   "cell_type": "markdown",
   "metadata": {},
   "source": [
    "## MATH library"
   ]
  },
  {
   "cell_type": "code",
   "execution_count": 18,
   "metadata": {},
   "outputs": [
    {
     "name": "stdout",
     "output_type": "stream",
     "text": [
      "9\n",
      "2\n",
      "2.0\n",
      "120\n",
      "9.65\n"
     ]
    }
   ],
   "source": [
    "import math\n",
    "\n",
    "print(math.ceil(8.9))\n",
    "print(math.floor(2.9))\n",
    "print(math.sqrt(4))\n",
    "print(math.factorial(5))\n",
    "print(math.fabs(-9.65))"
   ]
  },
  {
   "cell_type": "markdown",
   "metadata": {},
   "source": [
    "## STRING Library"
   ]
  },
  {
   "cell_type": "code",
   "execution_count": 19,
   "metadata": {},
   "outputs": [
    {
     "name": "stdout",
     "output_type": "stream",
     "text": [
      "2\n",
      "A string function quotation\n",
      "2\n",
      "True\n",
      "True\n",
      "True\n",
      "A STRING FUNCTION EXAMPLE\n",
      "a string function example\n",
      "['A', 'string', 'function', 'example']\n"
     ]
    }
   ],
   "source": [
    "text = \"A string function example\"\n",
    "num = \"123\"\n",
    "\n",
    "print(text.count(\"i\", 0, len(text)))\n",
    "print(text.replace(\"example\",\"quotation\"))\n",
    "print(text.find(\"string\"))\n",
    "print(text.startswith(\"s\", 2, 5)) # (start,end)\n",
    "print(text.endswith(\"g\", 0, 8)) # (start,end)\n",
    "print(num.isdigit())\n",
    "print(text.upper())\n",
    "print(text.lower())\n",
    "print(text.split(\" \"))"
   ]
  },
  {
   "cell_type": "markdown",
   "metadata": {},
   "source": [
    "## Dictionary Functions"
   ]
  },
  {
   "cell_type": "code",
   "execution_count": 20,
   "metadata": {},
   "outputs": [
    {
     "name": "stdout",
     "output_type": "stream",
     "text": [
      "{'key1': 10, 'key2': 20}\n",
      "Changing value of a key  {'key1': 30, 'key2': 20}\n",
      "Adding a new key:value pair  {'key1': 30, 'key2': 20, 'key3': 40}\n",
      "Renaming key name  {'key2': 20, 'key3': 40, 'key1_new': 30}\n"
     ]
    }
   ],
   "source": [
    "d = {\"key1\":10,\n",
    "    \"key2\":20}\n",
    "print(d)\n",
    "     \n",
    "d[\"key1\"] = 30\n",
    "print(\"Changing value of a key \",d)\n",
    "d[\"key3\"] = 40\n",
    "print(\"Adding a new key:value pair \",d)\n",
    "d[\"key1_new\"] = d.pop(\"key1\")\n",
    "print(\"Renaming key name \",d)"
   ]
  },
  {
   "cell_type": "markdown",
   "metadata": {},
   "source": [
    "## LIST Library"
   ]
  },
  {
   "cell_type": "code",
   "execution_count": 21,
   "metadata": {},
   "outputs": [
    {
     "name": "stdout",
     "output_type": "stream",
     "text": [
      "[1, 5, 90, 63, 5, 4, 100]\n",
      "[-100, 1, 5, 90, 63, 5, 4, 100]\n",
      "[-100, 1, 5, 90, 63, 5, 4]\n",
      "[-100, 1, 90, 63, 5, 4]\n",
      "[-100, 1, 4, 5, 63, 90]\n",
      "[90, 63, 5, 4, 1, -100]\n"
     ]
    }
   ],
   "source": [
    "lst = [1, 5, 90, 63, 5, 4]\n",
    "lst.append(100)\n",
    "print(lst)\n",
    "lst.insert(0, -100) # (index, value)\n",
    "print(lst)\n",
    "lst.pop()\n",
    "print(lst)\n",
    "lst.remove(5) # removes very first value\n",
    "print(lst)\n",
    "lst.sort()\n",
    "print(lst)\n",
    "lst.reverse()\n",
    "print(lst)"
   ]
  },
  {
   "cell_type": "markdown",
   "metadata": {},
   "source": [
    "## REGEX"
   ]
  },
  {
   "cell_type": "code",
   "execution_count": 22,
   "metadata": {},
   "outputs": [
    {
     "name": "stdout",
     "output_type": "stream",
     "text": [
      "True\n",
      "True\n",
      "True\n",
      "False\n",
      "True\n"
     ]
    }
   ],
   "source": [
    "import re\n",
    "\n",
    "# To search the pattern \"Air\" in the given string \n",
    "# \"Airline\".\n",
    "print(re.search(r\"Air\",\"Airline\") != None)\n",
    "\n",
    "# To search the pattern having two characters in \n",
    "# between A and l in the given string \"Aopline\".\n",
    "print(re.search(r\"A..l\",\"A**line\") != None)\n",
    "\n",
    "# To search for a digit between A and l in the \n",
    "# given string \"A2line\".\n",
    "print(re.search(r\"A\\dl\",\"A2line\") != None)\n",
    "\n",
    "# To search for a number between 4 and 8 in between\n",
    "# A and l in the given string.\n",
    "print(re.search(r\"A[4-8]l\",\"A2line\") != None)\n",
    "\n",
    "# To search for the pattern \"Hell\" or \"Fell\" in the\n",
    "# given string \"Fellow\".\n",
    "print(re.search(r\"Hell|Fell\",\"Fellow\") != None)"
   ]
  },
  {
   "cell_type": "markdown",
   "metadata": {},
   "source": [
    "## CLASSES & Objects"
   ]
  },
  {
   "cell_type": "code",
   "execution_count": 23,
   "metadata": {},
   "outputs": [
    {
     "name": "stdout",
     "output_type": "stream",
     "text": [
      "Get Private variable:  1\n",
      "Get Public variable:  2\n",
      "Set Public variable 3\n",
      "Set Private variable 4\n"
     ]
    }
   ],
   "source": [
    "class C1:\n",
    "   a = d\n",
    "   def __init__(self):\n",
    "       self.__var1 = 1\n",
    "       self.var2 = 2\n",
    "       self.var3 = None\n",
    "       self.__var4 = None\n",
    "       \n",
    "   def get_var1(self):\n",
    "       return self.__var1\n",
    "   \n",
    "   def set_var4(self, val):\n",
    "       self.__var4 = val\n",
    "       \n",
    "   def get_var4(self):\n",
    "       return self.__var4\n",
    "   \n",
    "obj = C1()\n",
    "print(\"Get Private variable: \", obj.get_var1())\n",
    "print(\"Get Public variable: \", obj.var2)\n",
    "obj.var3 = 3\n",
    "print(\"Set Public variable\", obj.var3)\n",
    "obj.set_var4(4)\n",
    "print(\"Set Private variable\", obj.get_var4())"
   ]
  },
  {
   "cell_type": "code",
   "execution_count": 24,
   "metadata": {},
   "outputs": [
    {
     "name": "stdout",
     "output_type": "stream",
     "text": [
      "Galaxy Name:  Milky Way\n",
      "Number of planets:  8\n",
      "Planet 1:  Earth\n",
      "Planet 2:  Mars\n",
      "New Galaxy Name:  Andromeda\n",
      "New Galaxy's planet rank:  Unknown\n"
     ]
    }
   ],
   "source": [
    "# Universe is a Base class\n",
    "class Universe:\n",
    "   def __init__(self,galaxy_name,no_of_planets):\n",
    "       self.__galaxy_name = galaxy_name\n",
    "       self.__no_of_planets = no_of_planets\n",
    "   \n",
    "   def get_gal_name(self):\n",
    "       return self.__galaxy_name\n",
    "   \n",
    "   def get_planets(self):\n",
    "       return self.__no_of_planets\n",
    "       \n",
    "# Planets is a Derived Class\n",
    "class Planets(Universe):    \n",
    "   def __init__(self,galaxy_name, no_of_planets, p1, p2):\n",
    "       Universe.__init__(self,galaxy_name,no_of_planets)\n",
    "       self.p1 = p1\n",
    "       self.p2 = p2\n",
    "   \n",
    "   def display_info(self):\n",
    "       print(\"Galaxy Name: \", self.get_gal_name())\n",
    "       print(\"Number of planets: \", self.get_planets())\n",
    "       print(\"Planet 1: \", self.p1)\n",
    "       print(\"Planet 2: \", self.p2)\n",
    "       \n",
    "obj1 = Planets(\"Milky Way\", 8, \"Earth\", \"Mars\")\n",
    "obj1.display_info()\n",
    "obj2 = Universe(\"Andromeda\",\"Unknown\")\n",
    "print(\"New Galaxy Name: \", obj2.get_gal_name())\n",
    "print(\"New Galaxy's planet rank: \", obj2.get_planets())"
   ]
  },
  {
   "cell_type": "code",
   "execution_count": 25,
   "metadata": {},
   "outputs": [
    {
     "name": "stdout",
     "output_type": "stream",
     "text": [
      "10\n"
     ]
    }
   ],
   "source": [
    "# Passing object of a class as an argument into another class\n",
    "class A:\n",
    "   def __init__(self):\n",
    "       self.__var1 = 2\n",
    "   \n",
    "   def get_var1(self):\n",
    "       return self.__var1\n",
    "   \n",
    "class B:\n",
    "   def __init__(self):\n",
    "       self.__var2 = 5\n",
    "   \n",
    "   def get_var2(self):\n",
    "       return self.__var2\n",
    "   \n",
    "   def multiplication(self,temp_obj):\n",
    "       print(self.__var2 * temp_obj.get_var1())\n",
    "       return \n",
    "   \n",
    "obj1 = A()\n",
    "obj2 = B()\n",
    "obj2.multiplication(obj1)"
   ]
  },
  {
   "cell_type": "markdown",
   "metadata": {
    "collapsed": true
   },
   "source": [
    "# Illustrations/Scenarios"
   ]
  },
  {
   "cell_type": "code",
   "execution_count": 26,
   "metadata": {},
   "outputs": [
    {
     "data": {
      "text/plain": [
       "[0, 0, 0, 0, 0, 0, 2, 4, 0, 2, 4, 6, 8, 0, 6, 12, 0, 4, 8, 12, 16]"
      ]
     },
     "execution_count": 26,
     "metadata": {},
     "output_type": "execute_result"
    }
   ],
   "source": [
    "[i*j for i in range(0,5) for j in range(5) if (i*j)%2 == 0]"
   ]
  },
  {
   "cell_type": "code",
   "execution_count": 27,
   "metadata": {},
   "outputs": [],
   "source": [
    "from sympy import *"
   ]
  },
  {
   "cell_type": "code",
   "execution_count": 28,
   "metadata": {},
   "outputs": [
    {
     "data": {
      "text/plain": [
       "Eq(Integral(exp(x)*cos(x), x), exp(x)*sin(x)/2 + exp(x)*cos(x)/2)"
      ]
     },
     "execution_count": 28,
     "metadata": {},
     "output_type": "execute_result"
    }
   ],
   "source": [
    "x = symbols('x')\n",
    "a = Integral(cos(x)*exp(x), x)\n",
    "Eq(a, a.doit())"
   ]
  },
  {
   "cell_type": "code",
   "execution_count": 29,
   "metadata": {},
   "outputs": [],
   "source": [
    "init_printing(use_latex='mathjax')"
   ]
  },
  {
   "cell_type": "code",
   "execution_count": 30,
   "metadata": {},
   "outputs": [
    {
     "data": {
      "text/latex": [
       "$$\\sqrt{3} + 3$$"
      ],
      "text/plain": [
       "√3 + 3"
      ]
     },
     "execution_count": 30,
     "metadata": {},
     "output_type": "execute_result"
    }
   ],
   "source": [
    "3 + sqrt(3)"
   ]
  },
  {
   "cell_type": "code",
   "execution_count": null,
   "metadata": {},
   "outputs": [],
   "source": []
  }
 ],
 "metadata": {
  "kernelspec": {
   "display_name": "Python 3",
   "language": "python",
   "name": "python3"
  },
  "language_info": {
   "codemirror_mode": {
    "name": "ipython",
    "version": 3
   },
   "file_extension": ".py",
   "mimetype": "text/x-python",
   "name": "python",
   "nbconvert_exporter": "python",
   "pygments_lexer": "ipython3",
   "version": "3.6.1"
  }
 },
 "nbformat": 4,
 "nbformat_minor": 2
}

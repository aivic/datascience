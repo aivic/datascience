{
 "cells": [
  {
   "cell_type": "code",
   "execution_count": 1,
   "metadata": {},
   "outputs": [],
   "source": [
    "import numpy as np"
   ]
  },
  {
   "cell_type": "markdown",
   "metadata": {},
   "source": [
    "# Conversion of Python list to numPy array"
   ]
  },
  {
   "cell_type": "code",
   "execution_count": 2,
   "metadata": {},
   "outputs": [
    {
     "name": "stdout",
     "output_type": "stream",
     "text": [
      "[2 5 6 8]\n",
      "<class 'numpy.ndarray'>\n",
      "int32\n",
      "complex128\n"
     ]
    }
   ],
   "source": [
    "arr = np.array([2,5,6,8],\n",
    "              dtype = int)\n",
    "print(arr)\n",
    "print(type(arr))\n",
    "print(np.result_type(arr))\n",
    "arr = arr.astype(complex)\n",
    "print(np.result_type(arr))"
   ]
  },
  {
   "cell_type": "markdown",
   "metadata": {},
   "source": [
    "# Intrinsic numPy array Creation"
   ]
  },
  {
   "cell_type": "code",
   "execution_count": 3,
   "metadata": {},
   "outputs": [
    {
     "name": "stdout",
     "output_type": "stream",
     "text": [
      "[[0. 0. 0.]\n",
      " [0. 0. 0.]\n",
      " [0. 0. 0.]\n",
      " [0. 0. 0.]]\n",
      "[[1. 1. 1.]\n",
      " [1. 1. 1.]\n",
      " [1. 1. 1.]]\n",
      "[0.   1.33 2.66 3.99 5.32 6.65 7.98 9.31]\n",
      "[  0.  40.  80. 120. 160.]\n",
      "[[0.38581097 0.24211063 0.30579432]]\n"
     ]
    }
   ],
   "source": [
    "print( np.zeros( (4,3) ) )\n",
    "#float64 is a by default dtype\n",
    "print(np.ones( (3,3), dtype = np.float64 ))\n",
    "# arange() is a function similar to range()\n",
    "# that returns arrays instead of lists\n",
    "# It can accept float arguments too \n",
    "print(np.arange(0, 10, 1.33, dtype = np.float64))\n",
    "# arange gives uncertain number of values based on steps\n",
    "# Hence, linspace, which asks for number of values\n",
    "print(np.linspace(0, 160, 5, dtype = np.float64))\n",
    "# rand -> random values in a given shape\n",
    "print(np.random.rand(1,3))"
   ]
  },
  {
   "cell_type": "markdown",
   "metadata": {},
   "source": [
    "# Matrix Creation"
   ]
  },
  {
   "cell_type": "code",
   "execution_count": 4,
   "metadata": {},
   "outputs": [
    {
     "name": "stdout",
     "output_type": "stream",
     "text": [
      "[[ 5  6  8]\n",
      " [45 12 52]]\n",
      "[[1 2]\n",
      " [3 4]]\n",
      "[[1. 0. 0.]\n",
      " [0. 1. 0.]\n",
      " [0. 0. 1.]]\n"
     ]
    }
   ],
   "source": [
    "# Using reshape to convert array into matrix\n",
    "print(np.array([5,6,8,45,12,52]).reshape(2,3))\n",
    "\n",
    "# Using matrix function\n",
    "print(np.matrix([[1,2],\n",
    "                [3,4]]))\n",
    "print(np.eye(3)) # Identity matrix"
   ]
  },
  {
   "cell_type": "markdown",
   "metadata": {},
   "source": [
    "# Vectorized Operations"
   ]
  },
  {
   "cell_type": "code",
   "execution_count": 5,
   "metadata": {},
   "outputs": [
    {
     "name": "stdout",
     "output_type": "stream",
     "text": [
      "[150 200  30] [0 1 2]\n",
      "[150 199  28]\n",
      "[0 1 8]\n",
      "[ True False False]\n",
      "0\n",
      "3\n"
     ]
    }
   ],
   "source": [
    "arr1 = np.array([150, 200, 30])\n",
    "arr2 = np.arange( 3 )\n",
    "print(arr1,arr2)\n",
    "print(arr1 - arr2)\n",
    "\n",
    "print(arr2**3)\n",
    "\n",
    "print(arr2 < 1)\n",
    "# Gives the index where new value can be placed to\n",
    "# preserve order\n",
    "print(np.searchsorted(arr1, 100))\n",
    "print(np.searchsorted(arr2, 100))"
   ]
  },
  {
   "cell_type": "markdown",
   "metadata": {},
   "source": [
    "## Matrix multiplication"
   ]
  },
  {
   "cell_type": "code",
   "execution_count": 6,
   "metadata": {},
   "outputs": [
    {
     "name": "stdout",
     "output_type": "stream",
     "text": [
      "[[ 2  6]\n",
      " [15 24]]\n",
      "[[12 15]\n",
      " [26 33]]\n",
      "[[12 15]\n",
      " [26 33]]\n"
     ]
    }
   ],
   "source": [
    "mat1 = np.array([[1, 2],\n",
    "                [3, 4]])\n",
    "mat2 = np.array([[2, 3],\n",
    "                [5, 6]])\n",
    "print(mat1 * mat2)  # Elementwise product\n",
    "print(mat1.dot(mat2))   # Dot product\n",
    "print(np.dot(mat1,mat2)) # Dot product"
   ]
  },
  {
   "cell_type": "markdown",
   "metadata": {},
   "source": [
    "## Shorthand operations"
   ]
  },
  {
   "cell_type": "code",
   "execution_count": 7,
   "metadata": {},
   "outputs": [
    {
     "name": "stdout",
     "output_type": "stream",
     "text": [
      "[[5. 5. 5.]\n",
      " [5. 5. 5.]]\n",
      "[[10. 10. 10.]\n",
      " [10. 10. 10.]]\n"
     ]
    }
   ],
   "source": [
    "arr1 = np.ones((2,3), dtype = float)\n",
    "arr1 *= 5\n",
    "print(arr1)\n",
    "arr1 += 5\n",
    "print(arr1)"
   ]
  },
  {
   "cell_type": "markdown",
   "metadata": {},
   "source": [
    "## Comparison operations"
   ]
  },
  {
   "cell_type": "code",
   "execution_count": 8,
   "metadata": {},
   "outputs": [
    {
     "name": "stdout",
     "output_type": "stream",
     "text": [
      "[[False  True]\n",
      " [ True False]]\n",
      "[[ True False]\n",
      " [False  True]]\n",
      "[[False False]\n",
      " [False False]]\n",
      "[[ True  True]\n",
      " [ True  True]]\n"
     ]
    }
   ],
   "source": [
    "mat1 = np.matrix([[0, 20],\n",
    "                 [3, -6]])\n",
    "mat2 = np.matrix([[1, 12],\n",
    "                 [0.30, 4]])\n",
    "print(np.greater_equal(mat1, mat2))\n",
    "print(np.less(mat1, mat2))\n",
    "print(np.equal(mat1, mat2))\n",
    "print(np.not_equal(mat1, mat2))"
   ]
  },
  {
   "cell_type": "markdown",
   "metadata": {},
   "source": [
    "## Logical Operations"
   ]
  },
  {
   "cell_type": "code",
   "execution_count": 9,
   "metadata": {},
   "outputs": [
    {
     "name": "stdout",
     "output_type": "stream",
     "text": [
      "False\n",
      "True\n",
      "False\n",
      "True\n"
     ]
    }
   ],
   "source": [
    "print(np.logical_and(1, False))\n",
    "print(np.logical_or(1, 0))\n",
    "print(np.logical_not(1))\n",
    "print(np.logical_xor(1, 0))"
   ]
  },
  {
   "cell_type": "markdown",
   "metadata": {},
   "source": [
    "## Universal functions"
   ]
  },
  {
   "cell_type": "code",
   "execution_count": 10,
   "metadata": {},
   "outputs": [
    {
     "name": "stdout",
     "output_type": "stream",
     "text": [
      "10\n",
      "1\n",
      "4\n",
      "(2, 2)\n"
     ]
    }
   ],
   "source": [
    "mat1 = np.matrix([[1, 2],\n",
    "                 [3, 4]])\n",
    "\n",
    "print(mat1.sum())\n",
    "print(mat1.min())\n",
    "print(mat1.max())\n",
    "\n",
    "print(mat1.shape)"
   ]
  },
  {
   "cell_type": "code",
   "execution_count": 11,
   "metadata": {},
   "outputs": [
    {
     "name": "stdout",
     "output_type": "stream",
     "text": [
      "[[4 6]]\n",
      "(1, 2)\n"
     ]
    }
   ],
   "source": [
    "# Using AXIS to specify the direction\n",
    "# 0 -> Vertical\n",
    "# 1 -> Horizontal \n",
    "\n",
    "print(mat1.sum(axis = 0))\n",
    "print(mat1.sum(axis = 0).shape)"
   ]
  },
  {
   "cell_type": "code",
   "execution_count": 12,
   "metadata": {},
   "outputs": [
    {
     "name": "stdout",
     "output_type": "stream",
     "text": [
      "[[3]\n",
      " [7]]\n",
      "(2, 1)\n"
     ]
    }
   ],
   "source": [
    "print(mat1.sum(axis = 1))\n",
    "print(mat1.sum(axis = 1).shape)"
   ]
  },
  {
   "cell_type": "code",
   "execution_count": 13,
   "metadata": {},
   "outputs": [
    {
     "name": "stdout",
     "output_type": "stream",
     "text": [
      "[[1 2]\n",
      " [4 6]]\n",
      "[[1 3]\n",
      " [3 7]]\n"
     ]
    }
   ],
   "source": [
    "print(mat1.cumsum(axis = 0))\n",
    "print(mat1.cumsum(axis = 1))"
   ]
  },
  {
   "cell_type": "code",
   "execution_count": 14,
   "metadata": {},
   "outputs": [
    {
     "name": "stdout",
     "output_type": "stream",
     "text": [
      "[[1.         1.41421356]\n",
      " [1.73205081 2.        ]]\n",
      "[[ 0.84147098  0.90929743]\n",
      " [ 0.14112001 -0.7568025 ]]\n",
      "1.0\n"
     ]
    }
   ],
   "source": [
    "print(np.sqrt(mat1))\n",
    "print(np.sin(mat1))\n",
    "print(np.sin(np.pi/2))"
   ]
  },
  {
   "cell_type": "markdown",
   "metadata": {},
   "source": [
    "## Matrix attributes"
   ]
  },
  {
   "cell_type": "code",
   "execution_count": 15,
   "metadata": {},
   "outputs": [],
   "source": [
    "mat1 = np.matrix([[1.2, 2+6j],\n",
    "                 [3+5j, 4]], dtype = complex)\n",
    "mat2 = np.matrix([[1, 2],\n",
    "                 [3, 4]], dtype = int)"
   ]
  },
  {
   "cell_type": "code",
   "execution_count": 16,
   "metadata": {},
   "outputs": [
    {
     "name": "stdout",
     "output_type": "stream",
     "text": [
      "2\n",
      "4\n",
      "[[1.2+0.j 3. +5.j]\n",
      " [2. +6.j 4. +0.j]]\n",
      "[1.2+0.j 2. +6.j 3. +5.j 4. +0.j]\n",
      "[[1.2-0.j 3. -5.j]\n",
      " [2. -6.j 4. -0.j]]\n",
      "[[0. 6.]\n",
      " [5. 0.]]\n",
      "[[1.2 2. ]\n",
      " [3.  4. ]]\n",
      "[[1.2        6.32455532]\n",
      " [5.83095189 4.        ]]\n",
      "16\n",
      "64\n",
      "16\n"
     ]
    }
   ],
   "source": [
    "print(mat1.ndim)    # Number of dimensions\n",
    "print(mat1.size)    # Number of elements\n",
    "print(mat1.T)   # Transpose\n",
    "print(mat1.A1)  # 1D array\n",
    "print(mat1.H)   # Complex conjugate transpose\n",
    "\n",
    "print(mat1.imag)    # imag part\n",
    "print(mat1.real)    # real part\n",
    "print(abs(mat1))    # Absolute value\n",
    "\n",
    "print(mat1.itemsize) # total bytes occupied by 1 ele\n",
    "print(mat1.nbytes)  # total bytes consumed by matrix\n",
    "print(mat2.nbytes)"
   ]
  },
  {
   "cell_type": "markdown",
   "metadata": {},
   "source": [
    "## Matrix methods"
   ]
  },
  {
   "cell_type": "code",
   "execution_count": 17,
   "metadata": {},
   "outputs": [],
   "source": [
    "mat1 = np.arange(9, dtype = np.float64).reshape(3,3)\n",
    "mat2 = np.array([[1, 2+3j],\n",
    "                [3-9j,2]], dtype = complex)\n",
    "mat3 = np.array([[1, 4],\n",
    "                [3, 2]])\n",
    "mat4 = np.array([[10, 40],\n",
    "                [30, 20]])"
   ]
  },
  {
   "cell_type": "code",
   "execution_count": 18,
   "metadata": {},
   "outputs": [
    {
     "name": "stdout",
     "output_type": "stream",
     "text": [
      "[[0. 1. 2.]\n",
      " [3. 4. 5.]\n",
      " [6. 7. 8.]]\n",
      "[0. 4. 8.]\n",
      "12.0\n",
      "[[0. 1. 2.]\n",
      " [6. 7. 8.]]\n",
      "[[0. 2.]\n",
      " [3. 5.]\n",
      " [6. 8.]]\n",
      "[[1.-0.j 2.-3.j]\n",
      " [3.+9.j 2.-0.j]]\n"
     ]
    }
   ],
   "source": [
    "print(mat1)\n",
    "print(mat1.diagonal()) # Parameters -> 1, -1, 2, -2\n",
    "print(np.trace(mat1))   # Sum of diag. ele.\n",
    "\n",
    "print(mat1.compress([True,False,True],axis = 0)) #row\n",
    "print(mat1.compress([True,False,True],axis = 1)) #col\n",
    "\n",
    "print(mat2.conjugate())"
   ]
  },
  {
   "cell_type": "markdown",
   "metadata": {},
   "source": [
    "## Indexing is alternate to itemset"
   ]
  },
  {
   "cell_type": "code",
   "execution_count": 19,
   "metadata": {},
   "outputs": [
    {
     "name": "stdout",
     "output_type": "stream",
     "text": [
      "[[ 0.  1.  2.]\n",
      " [ 3.  4. 98.]\n",
      " [ 6. 45.  8.]]\n",
      "[[1 2]\n",
      " [3 4]]\n",
      "[[10 40]\n",
      " [20 30]]\n"
     ]
    }
   ],
   "source": [
    "mat1.itemset(5,98)  # counts in row axis @ pos 5th\n",
    "mat1.itemset( (2,1), 45) # @ pos (2,1)\n",
    "print(mat1)\n",
    "\n",
    "mat3.sort(axis = 0) # Col wise\n",
    "print(mat3)\n",
    "mat4.sort(axis = 1) # Row wise\n",
    "print(mat4)"
   ]
  },
  {
   "cell_type": "markdown",
   "metadata": {},
   "source": [
    "# Indexing & Slicing"
   ]
  },
  {
   "cell_type": "markdown",
   "metadata": {},
   "source": [
    "## 1-D array"
   ]
  },
  {
   "cell_type": "code",
   "execution_count": 20,
   "metadata": {},
   "outputs": [
    {
     "name": "stdout",
     "output_type": "stream",
     "text": [
      "6\n",
      "[5 6]\n",
      "[5 4]\n",
      "[2 6 3]\n",
      "[3 4 6 5 2]\n",
      "[3 6 2]\n"
     ]
    }
   ],
   "source": [
    "arr1 = np.array([2, 5, 6, 4, 3])\n",
    "print(arr1[2])\n",
    "print(arr1[1:3])\n",
    "print(arr1[1:4:2])  # Every 2nd ele\n",
    "print(arr1[::2])    \n",
    "print(arr1[::-1])   # Reversed array\n",
    "print(arr1[::-2])   # Reversed array (every 2nd ele)"
   ]
  },
  {
   "cell_type": "markdown",
   "metadata": {},
   "source": [
    "## Multidimensional array"
   ]
  },
  {
   "cell_type": "code",
   "execution_count": 21,
   "metadata": {},
   "outputs": [
    {
     "name": "stdout",
     "output_type": "stream",
     "text": [
      "[[0 1 2]\n",
      " [3 4 5]\n",
      " [6 7 8]]\n",
      "8\n",
      "[2 5 8]\n",
      "[3 4 5]\n",
      "[2 5]\n",
      "<class 'tuple'>\n"
     ]
    }
   ],
   "source": [
    "mat1 = np.arange( 9 ).reshape(3,3)\n",
    "print(mat1)\n",
    "print(mat1[2,2])\n",
    "print(mat1[:,2])\n",
    "print(mat1[1,:])\n",
    "print(mat1[0:2,2])  # doesn't consider last row\n",
    "print(type(mat1[1,:].shape))"
   ]
  },
  {
   "cell_type": "markdown",
   "metadata": {},
   "source": [
    "## Advanced indexing"
   ]
  },
  {
   "cell_type": "code",
   "execution_count": 22,
   "metadata": {},
   "outputs": [
    {
     "name": "stdout",
     "output_type": "stream",
     "text": [
      "[65 78 11]\n"
     ]
    }
   ],
   "source": [
    "arr1 = np.array([52, 65, 89, 78, 45, 11, 23, 96])\n",
    "arr1_ind = [1, 3, 5]\n",
    "# Passing array as index\n",
    "print(arr1[arr1_ind])"
   ]
  },
  {
   "cell_type": "code",
   "execution_count": 23,
   "metadata": {},
   "outputs": [
    {
     "name": "stdout",
     "output_type": "stream",
     "text": [
      "[ 52 -50  89 -60  45 -70  23  96]\n"
     ]
    }
   ],
   "source": [
    "arr1_ind = [1, 3, 5]\n",
    "# assigning values to index of array\n",
    "arr1[arr1_ind] = [-50, -60, -70]\n",
    "print(arr1)"
   ]
  },
  {
   "cell_type": "markdown",
   "metadata": {},
   "source": [
    "## Condition based indexing"
   ]
  },
  {
   "cell_type": "code",
   "execution_count": 24,
   "metadata": {},
   "outputs": [
    {
     "name": "stdout",
     "output_type": "stream",
     "text": [
      "[ 52 -50  89 -60  45 -70  23  96]\n",
      "[52 89 96]\n"
     ]
    }
   ],
   "source": [
    "arr1_ind = arr1 > 50\n",
    "print(arr1)\n",
    "print(arr1[arr1_ind])"
   ]
  },
  {
   "cell_type": "markdown",
   "metadata": {},
   "source": [
    "## Repetitive index"
   ]
  },
  {
   "cell_type": "code",
   "execution_count": 25,
   "metadata": {},
   "outputs": [
    {
     "name": "stdout",
     "output_type": "stream",
     "text": [
      "[200 -50 300 400  45 -70  23  96]\n"
     ]
    }
   ],
   "source": [
    "arr1_ind = [0,0,2,3]\n",
    "arr1[arr1_ind] = [100, 200, 300, 400] \n",
    "print(arr1)"
   ]
  },
  {
   "cell_type": "markdown",
   "metadata": {},
   "source": [
    "## Indexing on matrix"
   ]
  },
  {
   "cell_type": "code",
   "execution_count": 26,
   "metadata": {},
   "outputs": [
    {
     "name": "stdout",
     "output_type": "stream",
     "text": [
      "[[10  9]\n",
      " [ 5  4]]\n",
      "[[9 9]\n",
      " [5 5]]\n",
      "[[[ 2  1]\n",
      "  [ 1  0]]\n",
      "\n",
      " [[ 6  5]\n",
      "  [ 5  4]]\n",
      "\n",
      " [[10  9]\n",
      "  [ 9  8]]]\n",
      "[[  0   1   2   3]\n",
      " [ 40  50   6   7]\n",
      " [  8  90 100  11]]\n"
     ]
    }
   ],
   "source": [
    "mat1 = np.array([[ 0,  1,  2,  3],\n",
    "                [ 4,  5,  6,  7],\n",
    "                [ 8,  9, 10, 11]])\n",
    "# size of indA and indB must be equal\n",
    "\n",
    "indA = np.array([[2,2],[1,1]])\n",
    "indB = np.array([[2,1],[1,0]])\n",
    "\n",
    "print(mat1[indA, indB])\n",
    "print(mat1[indA, 1])\n",
    "print(mat1[:, indB])\n",
    "mat1[indA, indB] = np.array([[100, 90],[50, 40]])\n",
    "print(mat1)"
   ]
  },
  {
   "cell_type": "markdown",
   "metadata": {},
   "source": [
    "# Manipulations"
   ]
  },
  {
   "cell_type": "markdown",
   "metadata": {},
   "source": [
    "## Shape conversion"
   ]
  },
  {
   "cell_type": "code",
   "execution_count": 27,
   "metadata": {},
   "outputs": [
    {
     "name": "stdout",
     "output_type": "stream",
     "text": [
      "[0 1 2 3]\n",
      "[0 1 2 3]\n",
      "(4, 1)\n",
      "(1, 4)\n",
      "[[0 1]\n",
      " [2 3]]\n",
      "[[0 1 2 3]]\n"
     ]
    }
   ],
   "source": [
    "mat1 = np.arange( 4 ).reshape(2,2)\n",
    "print(np.array(mat1.flat)) # Gives 1D array\n",
    "print(np.array(mat1.ravel()))  # Gives 1D array\n",
    "# With -1 other dim are  calc. automatically\n",
    "print(mat1.reshape(4,-1).shape)\n",
    "print(mat1.reshape(-1,4).shape) \n",
    "print(mat1)     # No perm. change to mat1 yet\n",
    "mat1.resize( (1,4) )    # Perm. change\n",
    "print(mat1)"
   ]
  },
  {
   "cell_type": "markdown",
   "metadata": {},
   "source": [
    "## Stacking arrays to form matrix"
   ]
  },
  {
   "cell_type": "code",
   "execution_count": 28,
   "metadata": {},
   "outputs": [],
   "source": [
    "arr1 = np.array([[1, 2],\n",
    "                [3, 4]])\n",
    "arr2 = np.array([[10, 20],\n",
    "                [30, 40]])"
   ]
  },
  {
   "cell_type": "markdown",
   "metadata": {},
   "source": [
    "### VSTACK -> adds row(s)"
   ]
  },
  {
   "cell_type": "code",
   "execution_count": 29,
   "metadata": {},
   "outputs": [
    {
     "name": "stdout",
     "output_type": "stream",
     "text": [
      "[[ 1  2]\n",
      " [ 3  4]\n",
      " [10 20]\n",
      " [30 40]]\n",
      "(4, 2)\n"
     ]
    }
   ],
   "source": [
    "# even matrix and 1D arrays can be stacked\n",
    "matR = np.vstack( (arr1, arr2) ) \n",
    "print(matR)\n",
    "print(matR.shape)"
   ]
  },
  {
   "cell_type": "markdown",
   "metadata": {},
   "source": [
    "### HSTACK -> adds col(s)"
   ]
  },
  {
   "cell_type": "code",
   "execution_count": 30,
   "metadata": {},
   "outputs": [
    {
     "name": "stdout",
     "output_type": "stream",
     "text": [
      "[[ 1  2 10 20]\n",
      " [ 3  4 30 40]]\n",
      "(2, 4)\n"
     ]
    }
   ],
   "source": [
    "matC = np.hstack( (arr1, arr2) ) \n",
    "print(matC)\n",
    "print(matC.shape)"
   ]
  },
  {
   "cell_type": "markdown",
   "metadata": {},
   "source": [
    "## Splitting of arrays "
   ]
  },
  {
   "cell_type": "code",
   "execution_count": 31,
   "metadata": {},
   "outputs": [],
   "source": [
    "arr1 = np.arange(16).reshape(4,4)"
   ]
  },
  {
   "cell_type": "markdown",
   "metadata": {},
   "source": [
    "### VSPLIT -> Split row wise"
   ]
  },
  {
   "cell_type": "code",
   "execution_count": 32,
   "metadata": {},
   "outputs": [
    {
     "name": "stdout",
     "output_type": "stream",
     "text": [
      "[[[ 0  1  2  3]]\n",
      "\n",
      " [[ 4  5  6  7]]\n",
      "\n",
      " [[ 8  9 10 11]]\n",
      "\n",
      " [[12 13 14 15]]]\n",
      "(4, 1, 4)\n",
      "2\n"
     ]
    }
   ],
   "source": [
    "matR = np.vsplit(arr1,4)\n",
    "print(np.array(matR))\n",
    "print(np.array(matR).shape)\n",
    "print(matR[0][0][2]) # Currently, a normal list"
   ]
  },
  {
   "cell_type": "markdown",
   "metadata": {},
   "source": [
    "### HSPLIT -> Split col wise"
   ]
  },
  {
   "cell_type": "code",
   "execution_count": 33,
   "metadata": {},
   "outputs": [
    {
     "name": "stdout",
     "output_type": "stream",
     "text": [
      "[[[ 0]\n",
      "  [ 4]\n",
      "  [ 8]\n",
      "  [12]]\n",
      "\n",
      " [[ 1]\n",
      "  [ 5]\n",
      "  [ 9]\n",
      "  [13]]\n",
      "\n",
      " [[ 2]\n",
      "  [ 6]\n",
      "  [10]\n",
      "  [14]]\n",
      "\n",
      " [[ 3]\n",
      "  [ 7]\n",
      "  [11]\n",
      "  [15]]]\n",
      "(4, 4, 1)\n",
      "4\n"
     ]
    }
   ],
   "source": [
    "matR = np.hsplit(arr1,4)\n",
    "print(np.array(matR))\n",
    "print(np.array(matR).shape)\n",
    "print(matR[0][1][0]) # Currently, a normal list"
   ]
  },
  {
   "cell_type": "markdown",
   "metadata": {},
   "source": [
    "## Copying the value"
   ]
  },
  {
   "cell_type": "code",
   "execution_count": 34,
   "metadata": {},
   "outputs": [
    {
     "name": "stdout",
     "output_type": "stream",
     "text": [
      "True\n",
      "[[ 0  1  2]\n",
      " [ 3  4  5]\n",
      " [ 6  7 50]\n",
      " [ 9 10 11]]\n"
     ]
    }
   ],
   "source": [
    "arr1 = np.arange(12).reshape(4,3)\n",
    "arr2 = arr1\n",
    "print(arr2 is arr1)\n",
    "arr2[2,2] = 50 \n",
    "# mutability plays its role\n",
    "print(arr1)"
   ]
  },
  {
   "cell_type": "markdown",
   "metadata": {},
   "source": [
    "## Deep copy"
   ]
  },
  {
   "cell_type": "code",
   "execution_count": 35,
   "metadata": {},
   "outputs": [
    {
     "name": "stdout",
     "output_type": "stream",
     "text": [
      "False\n",
      "[[ 0  1  2]\n",
      " [ 3  4  5]\n",
      " [ 6  7  8]\n",
      " [ 9 10 11]]\n",
      "[[ 0  1  2]\n",
      " [ 3  4  5]\n",
      " [ 6  7 50]\n",
      " [ 9 10 11]]\n"
     ]
    }
   ],
   "source": [
    "arr1 = np.arange(12).reshape(4,3)\n",
    "arr2 = arr1.copy()\n",
    "print(arr2 is arr1)\n",
    "arr2[2,2] = 50 \n",
    "print(arr1)\n",
    "print(arr2)"
   ]
  },
  {
   "cell_type": "markdown",
   "metadata": {},
   "source": [
    "# Linear Algebra"
   ]
  },
  {
   "cell_type": "code",
   "execution_count": 36,
   "metadata": {},
   "outputs": [],
   "source": [
    "mat1 = np.arange(4).reshape(2,2)\n",
    "mat2 = (np.arange(4)*2).reshape(2,2)\n",
    "mat3 = (np.arange(4)*3).reshape(2,2)"
   ]
  },
  {
   "cell_type": "markdown",
   "metadata": {},
   "source": [
    "## Performing multiple dot product in one go"
   ]
  },
  {
   "cell_type": "code",
   "execution_count": 37,
   "metadata": {},
   "outputs": [
    {
     "name": "stdout",
     "output_type": "stream",
     "text": [
      "[[ 36  66]\n",
      " [132 234]]\n"
     ]
    }
   ],
   "source": [
    "print(np.linalg.multi_dot( [mat1, mat2, mat3] ))"
   ]
  },
  {
   "cell_type": "markdown",
   "metadata": {},
   "source": [
    "## Finding Inverse of matrix"
   ]
  },
  {
   "cell_type": "code",
   "execution_count": 38,
   "metadata": {},
   "outputs": [
    {
     "name": "stdout",
     "output_type": "stream",
     "text": [
      "[[-0.75  0.25]\n",
      " [ 0.5   0.  ]]\n"
     ]
    }
   ],
   "source": [
    "print(np.linalg.inv(mat2))"
   ]
  },
  {
   "cell_type": "markdown",
   "metadata": {},
   "source": [
    "## Computing real eigenvalues and eigenvectors"
   ]
  },
  {
   "cell_type": "code",
   "execution_count": 39,
   "metadata": {},
   "outputs": [
    {
     "name": "stdout",
     "output_type": "stream",
     "text": [
      "[[1. 0. 0.]\n",
      " [0. 1. 0.]\n",
      " [0. 0. 1.]]\n",
      "[1. 2. 3.]\n"
     ]
    }
   ],
   "source": [
    "e1, e2 = np.linalg.eig(np.diag( (1, 2, 3) ))\n",
    "print(e2)\n",
    "print(e1)"
   ]
  },
  {
   "cell_type": "markdown",
   "metadata": {},
   "source": [
    "## Alternate method to get evalues"
   ]
  },
  {
   "cell_type": "code",
   "execution_count": 40,
   "metadata": {},
   "outputs": [
    {
     "name": "stdout",
     "output_type": "stream",
     "text": [
      "[1. 2. 3.]\n"
     ]
    }
   ],
   "source": [
    "print(np.linalg.eigvals(np.diag( (1, 2, 3) )))"
   ]
  },
  {
   "cell_type": "markdown",
   "metadata": {},
   "source": [
    "## Computing determinant of matrix"
   ]
  },
  {
   "cell_type": "code",
   "execution_count": 41,
   "metadata": {},
   "outputs": [
    {
     "name": "stdout",
     "output_type": "stream",
     "text": [
      "-2.0\n"
     ]
    }
   ],
   "source": [
    "print(np.linalg.det(mat1))"
   ]
  },
  {
   "cell_type": "markdown",
   "metadata": {},
   "source": [
    "## Computing matrix rank"
   ]
  },
  {
   "cell_type": "code",
   "execution_count": 42,
   "metadata": {},
   "outputs": [
    {
     "name": "stdout",
     "output_type": "stream",
     "text": [
      "2\n"
     ]
    }
   ],
   "source": [
    "print(np.linalg.matrix_rank(mat1))"
   ]
  },
  {
   "cell_type": "markdown",
   "metadata": {},
   "source": [
    "## Solving system of linear equations"
   ]
  },
  {
   "cell_type": "code",
   "execution_count": 43,
   "metadata": {},
   "outputs": [
    {
     "name": "stdout",
     "output_type": "stream",
     "text": [
      "[2. 3.]\n"
     ]
    }
   ],
   "source": [
    "# 3x + y = 9\n",
    "# x + 2y = 8\n",
    "\n",
    "a = np.array([[3, 1],[1, 2]])\n",
    "b = np.array([9, 8])\n",
    "print(np.linalg.solve(a, b))"
   ]
  }
 ],
 "metadata": {
  "kernelspec": {
   "display_name": "Python 3",
   "language": "python",
   "name": "python3"
  },
  "language_info": {
   "codemirror_mode": {
    "name": "ipython",
    "version": 3
   },
   "file_extension": ".py",
   "mimetype": "text/x-python",
   "name": "python",
   "nbconvert_exporter": "python",
   "pygments_lexer": "ipython3",
   "version": "3.6.1"
  }
 },
 "nbformat": 4,
 "nbformat_minor": 2
}

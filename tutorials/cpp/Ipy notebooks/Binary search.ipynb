{
 "cells": [
  {
   "cell_type": "code",
   "execution_count": 1,
   "metadata": {},
   "outputs": [],
   "source": [
    "#include <iostream>\n",
    "#include <stdio.h>\n",
    "using namespace std;"
   ]
  },
  {
   "cell_type": "code",
   "execution_count": 2,
   "metadata": {},
   "outputs": [],
   "source": [
    "int binarySearch(int arr[], int l, int r, int x)\n",
    "{\n",
    "    while (l <= r)\n",
    "    {\n",
    "        int m = l + (r-l)/2;\n",
    " \n",
    "        // Check if x is present at mid\n",
    "        if (arr[m] == x)\n",
    "            return m;\n",
    " \n",
    "        // If x greater, ignore left half\n",
    "        if (arr[m] < x)\n",
    "            l = m + 1;\n",
    " \n",
    "        // If x is smaller, ignore right half\n",
    "        else\n",
    "            r = m - 1;\n",
    "    }\n",
    " \n",
    "    // if we reach here, then element was\n",
    "    // not present\n",
    "    return -1;\n",
    "}"
   ]
  },
  {
   "cell_type": "code",
   "execution_count": 3,
   "metadata": {},
   "outputs": [
    {
     "data": {
      "text/plain": [
       "3"
      ]
     },
     "execution_count": 3,
     "metadata": {},
     "output_type": "execute_result"
    }
   ],
   "source": [
    "int arr[] = {2, 3, 4, 10, 40,8};\n",
    "int n = sizeof(arr)/ sizeof(arr[0]);\n",
    "int x = 10;\n",
    "int result = binarySearch(arr, 0, n-1, x);\n",
    "result"
   ]
  }
 ],
 "metadata": {
  "kernelspec": {
   "display_name": "C++17",
   "language": "C++17",
   "name": "xeus-cling-cpp17"
  },
  "language_info": {
   "codemirror_mode": "text/x-c++src",
   "file_extension": ".cpp",
   "mimetype": "text/x-c++src",
   "name": "c++",
   "version": "17"
  }
 },
 "nbformat": 4,
 "nbformat_minor": 2
}
